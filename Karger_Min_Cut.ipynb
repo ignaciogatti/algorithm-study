{
 "cells": [
  {
   "cell_type": "markdown",
   "metadata": {},
   "source": [
    "## Karger Min Cut algorithm"
   ]
  },
  {
   "cell_type": "markdown",
   "metadata": {},
   "source": [
    "### Load data"
   ]
  },
  {
   "cell_type": "code",
   "execution_count": null,
   "metadata": {},
   "outputs": [],
   "source": [
    "edges_file = open(\"kargerMinCut.txt\")"
   ]
  },
  {
   "cell_type": "code",
   "execution_count": null,
   "metadata": {},
   "outputs": [],
   "source": [
    "edges_lines = edges_file.readlines()"
   ]
  },
  {
   "cell_type": "code",
   "execution_count": null,
   "metadata": {},
   "outputs": [],
   "source": [
    "n_nodes = len(edges_lines)"
   ]
  },
  {
   "cell_type": "markdown",
   "metadata": {},
   "source": [
    "**Auxiliar function to clean data**"
   ]
  },
  {
   "cell_type": "code",
   "execution_count": null,
   "metadata": {},
   "outputs": [],
   "source": [
    "def get_node_adjacency_list(edges_line):\n",
    "\n",
    "    node_adyence_list_aux = edges_line.split('\\t')[:-1]\n",
    "    node_adyence_list = [] \n",
    "    for node in node_adyence_list_aux:\n",
    "        node_adyence_list.append(int(node))\n",
    "\n",
    "    return node_adyence_list"
   ]
  },
  {
   "cell_type": "markdown",
   "metadata": {},
   "source": [
    "**Get adjacency list**"
   ]
  },
  {
   "cell_type": "code",
   "execution_count": null,
   "metadata": {},
   "outputs": [],
   "source": [
    "#adjacency list\n",
    "adjancency_list_dict = {}\n",
    "\n",
    "for line in edges_lines:\n",
    "    node_adyence_list = get_node_adjacency_list(line)\n",
    "    node_to_insert = node_adyence_list[0]\n",
    "    adjancency_list_dict[node_to_insert] = node_adyence_list[1:]\n",
    "    "
   ]
  },
  {
   "cell_type": "markdown",
   "metadata": {},
   "source": [
    "**Edge list**"
   ]
  },
  {
   "cell_type": "code",
   "execution_count": null,
   "metadata": {},
   "outputs": [],
   "source": [
    "edge_list = []\n",
    "\n",
    "for k, item_list in adjancency_list_dict.items():\n",
    "    for node in item_list:\n",
    "        edge = None\n",
    "        if k < node:\n",
    "            edge = (k, node)\n",
    "        else:\n",
    "            edge = (node, k)\n",
    "        \n",
    "        edge_list.append(edge)\n",
    "        \n",
    "edge_list = list(set(edge_list))"
   ]
  },
  {
   "cell_type": "code",
   "execution_count": null,
   "metadata": {},
   "outputs": [],
   "source": [
    "len(edge_list)"
   ]
  },
  {
   "cell_type": "markdown",
   "metadata": {},
   "source": [
    "**Node list**"
   ]
  },
  {
   "cell_type": "code",
   "execution_count": null,
   "metadata": {},
   "outputs": [],
   "source": [
    "node_list = list(adjancency_list_dict.keys())"
   ]
  },
  {
   "cell_type": "code",
   "execution_count": null,
   "metadata": {},
   "outputs": [],
   "source": [
    "len(node_list)"
   ]
  },
  {
   "cell_type": "markdown",
   "metadata": {},
   "source": [
    "### Random Min Cut Contraction"
   ]
  },
  {
   "cell_type": "markdown",
   "metadata": {},
   "source": [
    "**Auxiliar functions**"
   ]
  },
  {
   "cell_type": "code",
   "execution_count": null,
   "metadata": {},
   "outputs": [],
   "source": [
    "import random\n",
    "\n",
    "def choose_random_edge(edge_list):\n",
    "    \n",
    "    #Select random edge \n",
    "    selected_edge_index = random.randint(0, len(edge_list)-1)\n",
    "    edge = edge_list[selected_edge_index]\n",
    "    \n",
    "    return edge\n",
    "    "
   ]
  },
  {
   "cell_type": "code",
   "execution_count": null,
   "metadata": {},
   "outputs": [],
   "source": [
    "def update_node_list(node_list, edge_selected, node_contrated):\n",
    "    #Remove contracted edge\n",
    "    node_list.remove(edge_selected[0])\n",
    "    node_list.remove(edge_selected[1])\n",
    "    # Add contracted node\n",
    "    node_list.append(node_contrated)\n",
    "\n",
    "    return node_list"
   ]
  },
  {
   "cell_type": "code",
   "execution_count": null,
   "metadata": {},
   "outputs": [],
   "source": [
    "def update_edge_list(edge_list, edge_selected, node_contrated):\n",
    "    #Remove all appearence of an edge\n",
    "    edge_list_new = [x for x in edge_list if x != edge_selected]\n",
    "    edge_list_updated = []\n",
    "\n",
    "    for edge in edge_list_new:\n",
    "        updated = False\n",
    "        if edge[0] in edge_selected:\n",
    "            new_edge = (edge[1], node_contrated)\n",
    "            edge_list_updated.append(new_edge)\n",
    "            updated = True\n",
    "        if edge[1] in edge_selected:\n",
    "            new_edge = (edge[0], node_contrated)\n",
    "            edge_list_updated.append(new_edge)\n",
    "            updated = True\n",
    "\n",
    "        if not updated:\n",
    "            edge_list_updated.append(edge)\n",
    "    \n",
    "    return edge_list_updated"
   ]
  },
  {
   "cell_type": "markdown",
   "metadata": {},
   "source": [
    "**Random min cut contraction algorithm**"
   ]
  },
  {
   "cell_type": "code",
   "execution_count": null,
   "metadata": {},
   "outputs": [],
   "source": [
    "def min_cut_contraction_algorithm(node_list, edge_list):\n",
    "    \n",
    "    node_list_copy = node_list.copy()\n",
    "    edge_list_copy = edge_list.copy()\n",
    "    \n",
    "    node_contrated = node_list[-1] + 1\n",
    "\n",
    "    while len(node_list_copy) > 2:\n",
    "        #select a random edge\n",
    "        edge_selected = choose_random_edge(edge_list_copy)\n",
    "        #Update node list\n",
    "        node_list_copy = update_node_list(node_list_copy, edge_selected, node_contrated)\n",
    "        #Update edge list\n",
    "        edge_list_copy = update_edge_list(edge_list_copy, edge_selected, node_contrated)\n",
    "        #Update node for contraction\n",
    "        node_contrated += 1\n",
    "        \n",
    "    return len(edge_list_copy)"
   ]
  },
  {
   "cell_type": "code",
   "execution_count": null,
   "metadata": {},
   "outputs": [],
   "source": [
    "current_min = 99999\n",
    "for i in range(len(node_list)):\n",
    "    i_min = min_cut_contraction_algorithm(node_list, edge_list)\n",
    "    if current_min > i_min:\n",
    "        current_min = i_min\n",
    "\n",
    "print(current_min)"
   ]
  },
  {
   "cell_type": "markdown",
   "metadata": {},
   "source": [
    "## Test using networkX"
   ]
  },
  {
   "cell_type": "code",
   "execution_count": null,
   "metadata": {},
   "outputs": [],
   "source": [
    "import networkx as nx"
   ]
  },
  {
   "cell_type": "code",
   "execution_count": null,
   "metadata": {},
   "outputs": [],
   "source": [
    "graph = nx.Graph()"
   ]
  },
  {
   "cell_type": "code",
   "execution_count": null,
   "metadata": {},
   "outputs": [],
   "source": [
    "graph.add_nodes_from(node_list)"
   ]
  },
  {
   "cell_type": "code",
   "execution_count": null,
   "metadata": {},
   "outputs": [],
   "source": [
    "graph.add_edges_from(edge_list)"
   ]
  },
  {
   "cell_type": "code",
   "execution_count": null,
   "metadata": {},
   "outputs": [],
   "source": [
    "len(nx.minimum_edge_cut(graph))"
   ]
  }
 ],
 "metadata": {
  "kernelspec": {
   "display_name": "Python 3",
   "language": "python",
   "name": "python3"
  },
  "language_info": {
   "codemirror_mode": {
    "name": "ipython",
    "version": 3
   },
   "file_extension": ".py",
   "mimetype": "text/x-python",
   "name": "python",
   "nbconvert_exporter": "python",
   "pygments_lexer": "ipython3",
   "version": "3.5.2"
  }
 },
 "nbformat": 4,
 "nbformat_minor": 2
}
