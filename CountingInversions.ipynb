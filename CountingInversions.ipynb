{
 "cells": [
  {
   "cell_type": "markdown",
   "metadata": {},
   "source": [
    "## Counting Inversions"
   ]
  },
  {
   "cell_type": "code",
   "execution_count": null,
   "metadata": {},
   "outputs": [],
   "source": [
    "def merge_and_count(arr, start, mid, end):\n",
    "    #create a temporal array\n",
    "    temp = [0] * (end - start + 1)\n",
    "    \n",
    "    #count inversion variable\n",
    "    count_inversions = 0\n",
    "    \n",
    "    #iterate over the arrays pushing the values in order into temp\n",
    "    i_left = start\n",
    "    i_right = mid + 1\n",
    "    current = 0\n",
    "    while (i_left <= mid) and (i_right <= end):\n",
    "        \n",
    "        if arr[i_left] < arr[i_right]:\n",
    "            #No inversion case\n",
    "            temp[current] = arr[i_left]\n",
    "            i_left += 1\n",
    "        else:\n",
    "            #Inversion case\n",
    "            temp[current] = arr[i_right]\n",
    "            count_inversions += mid - i_left + 1\n",
    "            i_right += 1\n",
    "        \n",
    "        current += 1\n",
    "        \n",
    "    #copy remainders\n",
    "    while i_left <= mid :\n",
    "        temp[current] = arr[i_left]\n",
    "        i_left += 1\n",
    "        current += 1\n",
    "        \n",
    "    while i_right <= end :\n",
    "        temp[current] = arr[i_right]\n",
    "        i_right += 1\n",
    "        current += 1\n",
    "    \n",
    "    #copy the values into the array\n",
    "    i = start\n",
    "    for v in temp:\n",
    "        arr[i] = v\n",
    "        i +=1\n",
    "    \n",
    "    return count_inversions"
   ]
  },
  {
   "cell_type": "code",
   "execution_count": null,
   "metadata": {},
   "outputs": [],
   "source": [
    "def _mergesort_and_count_invs(arr, start, end):\n",
    "    if (start < end):\n",
    "        mid = (start + end) // 2 \n",
    "        count_left = _mergesort_and_count_invs(arr, start, mid)\n",
    "        count_right = _mergesort_and_count_invs(arr, mid + 1, end )\n",
    "        count_current = merge_and_count(arr, start, mid, end)\n",
    "        return count_left + count_right + count_current\n",
    "    return 0"
   ]
  },
  {
   "cell_type": "code",
   "execution_count": null,
   "metadata": {},
   "outputs": [],
   "source": [
    "def mergesort_and_count_invs(arr):\n",
    "    return _mergesort_and_count_invs(arr, 0, len(arr) -1)"
   ]
  },
  {
   "cell_type": "markdown",
   "metadata": {},
   "source": [
    "**Test code**"
   ]
  },
  {
   "cell_type": "code",
   "execution_count": null,
   "metadata": {},
   "outputs": [],
   "source": [
    "l = [1, 3, 5, 2, 4, 6]"
   ]
  },
  {
   "cell_type": "code",
   "execution_count": null,
   "metadata": {},
   "outputs": [],
   "source": [
    "mergesort_and_count_invs(l)"
   ]
  },
  {
   "cell_type": "code",
   "execution_count": null,
   "metadata": {},
   "outputs": [],
   "source": [
    "l"
   ]
  },
  {
   "cell_type": "markdown",
   "metadata": {},
   "source": [
    "### Load data"
   ]
  },
  {
   "cell_type": "code",
   "execution_count": null,
   "metadata": {},
   "outputs": [],
   "source": [
    "f_integers = open(\"IntegerArray.txt\")"
   ]
  },
  {
   "cell_type": "code",
   "execution_count": null,
   "metadata": {},
   "outputs": [],
   "source": [
    "lines = []\n",
    "\n",
    "for l in f_integers.readlines():\n",
    "    lines.append(int(l[:-1]))\n",
    "\n",
    "len(lines)"
   ]
  },
  {
   "cell_type": "code",
   "execution_count": null,
   "metadata": {},
   "outputs": [],
   "source": [
    "lines[0]"
   ]
  },
  {
   "cell_type": "code",
   "execution_count": null,
   "metadata": {},
   "outputs": [],
   "source": [
    "mergesort_and_count_invs(lines)"
   ]
  }
 ],
 "metadata": {
  "kernelspec": {
   "display_name": "Python 3",
   "language": "python",
   "name": "python3"
  },
  "language_info": {
   "codemirror_mode": {
    "name": "ipython",
    "version": 3
   },
   "file_extension": ".py",
   "mimetype": "text/x-python",
   "name": "python",
   "nbconvert_exporter": "python",
   "pygments_lexer": "ipython3",
   "version": "3.5.2"
  }
 },
 "nbformat": 4,
 "nbformat_minor": 2
}
