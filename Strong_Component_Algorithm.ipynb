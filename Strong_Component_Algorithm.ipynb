{
 "cells": [
  {
   "cell_type": "markdown",
   "metadata": {},
   "source": [
    "# Strong Component Algorithm"
   ]
  },
  {
   "cell_type": "code",
   "execution_count": null,
   "metadata": {},
   "outputs": [],
   "source": [
    "import numpy as np\n",
    "import networkx as nx\n",
    "from collections import deque"
   ]
  },
  {
   "cell_type": "markdown",
   "metadata": {},
   "source": [
    "### Load data"
   ]
  },
  {
   "cell_type": "code",
   "execution_count": null,
   "metadata": {},
   "outputs": [],
   "source": [
    "edges_file = open(\"StrongComponents.txt\")\n",
    "#edges_file = open(\"Test case 5.txt\")\n",
    "edges_lines = edges_file.readlines()\n",
    "n_edges = len(edges_lines)"
   ]
  },
  {
   "cell_type": "code",
   "execution_count": null,
   "metadata": {},
   "outputs": [],
   "source": [
    "n_edges"
   ]
  },
  {
   "cell_type": "code",
   "execution_count": null,
   "metadata": {},
   "outputs": [],
   "source": [
    "edges = []\n",
    "num_nodes = 0\n",
    "for line in edges_lines:\n",
    "    items = line.split()\n",
    "    n_0 = int(items[0])\n",
    "    n_1 = int(items[1])\n",
    "    edges.append((n_0, n_1))\n",
    "    if num_nodes < n_0:\n",
    "        num_nodes = n_0\n",
    "    if num_nodes < n_1:\n",
    "        num_nodes = n_1"
   ]
  },
  {
   "cell_type": "markdown",
   "metadata": {},
   "source": [
    "### Data Structures"
   ]
  },
  {
   "cell_type": "code",
   "execution_count": null,
   "metadata": {},
   "outputs": [],
   "source": [
    "# node labels range from 1 to 875714. 875715 was used because of the range operator... range(875715) goes up to 875714.\n",
    "num_nodes += 1\n",
    "\n",
    "# Adjacency representations of the graph and reverse graph\n",
    "gr = [[] for i in range(num_nodes)]\n",
    "r_gr = [[] for i in range(num_nodes)]\n",
    "\n",
    "# The list index represents the node. If node i is unvisited then visited[i] == False and vice versa\n",
    "visited = [False] * num_nodes\n",
    "\n",
    "# The list below holds info about sccs. The index is the scc leader and the value is the size of the scc.\n",
    "scc = [0] * num_nodes\n",
    "\n",
    "order = []  # The finishing orders after the first pass"
   ]
  },
  {
   "cell_type": "markdown",
   "metadata": {},
   "source": [
    "**Define adjancency matrix**"
   ]
  },
  {
   "cell_type": "code",
   "execution_count": null,
   "metadata": {},
   "outputs": [],
   "source": [
    "for edge in edges:\n",
    "    n_0 = edge[0]\n",
    "    n_1 = edge[1]\n",
    "    gr[n_0] += [n_1]\n",
    "    r_gr[n_1] += [n_0]"
   ]
  },
  {
   "cell_type": "code",
   "execution_count": null,
   "metadata": {},
   "outputs": [],
   "source": [
    "gr"
   ]
  },
  {
   "cell_type": "markdown",
   "metadata": {},
   "source": [
    "### Get strong connected components"
   ]
  },
  {
   "cell_type": "code",
   "execution_count": null,
   "metadata": {},
   "outputs": [],
   "source": [
    "def dfs(g, node, s, visited, scc, order):\n",
    "\n",
    "    # Stack for DFS\n",
    "    stack = deque()\n",
    "    #store ordered nodes\n",
    "    already_ordered = set()\n",
    "    \n",
    "    stack.append(node)\n",
    "    while len(stack) != 0:\n",
    "        stack_node = stack[-1]\n",
    "        #Node to explore\n",
    "        if (not visited[stack_node]):\n",
    "            visited[stack_node] = True\n",
    "            scc[stack_node] = s\n",
    "            for nbr in g[stack_node]:\n",
    "                if (not visited[nbr]):\n",
    "                    stack.append(nbr)\n",
    "        #Node already explored\n",
    "        else:\n",
    "            node_explored = stack.pop()\n",
    "            if node_explored not in already_ordered:\n",
    "                order.append(node_explored)\n",
    "                already_ordered.add(node_explored)\n",
    "            "
   ]
  },
  {
   "cell_type": "code",
   "execution_count": null,
   "metadata": {},
   "outputs": [],
   "source": [
    "def dfs_loop(num_nodes, g, visited, scc, order):\n",
    "    \n",
    "    #leader node\n",
    "    s = None\n",
    "    for node in range(1, num_nodes):\n",
    "        if (not visited[node]):\n",
    "            s = node\n",
    "            dfs(g, node, s, visited, scc, order)"
   ]
  },
  {
   "cell_type": "markdown",
   "metadata": {},
   "source": [
    "**DFS on reverse graph**"
   ]
  },
  {
   "cell_type": "code",
   "execution_count": null,
   "metadata": {},
   "outputs": [],
   "source": [
    "dfs_loop(num_nodes, r_gr, visited, scc, order)"
   ]
  },
  {
   "cell_type": "markdown",
   "metadata": {},
   "source": [
    "**DFS on original graph**"
   ]
  },
  {
   "cell_type": "code",
   "execution_count": null,
   "metadata": {},
   "outputs": [],
   "source": [
    "visited = [False] * len(visited)  # Resetting the visited variable\n",
    "order.reverse()  # The nodes should be visited in reverse finishing times\n",
    "\n",
    "for node in order:\n",
    "    if (not visited[node]):\n",
    "            s = node\n",
    "            dfs(gr, node, s, visited, scc, order)\n"
   ]
  },
  {
   "cell_type": "code",
   "execution_count": null,
   "metadata": {},
   "outputs": [],
   "source": [
    "scc_size = {}\n",
    "\n",
    "for v in scc[1:]:\n",
    "    scc_size[v] = scc_size.get(v, 0) +1 "
   ]
  },
  {
   "cell_type": "code",
   "execution_count": null,
   "metadata": {},
   "outputs": [],
   "source": [
    "sizes = list(scc_size.values())\n",
    "sizes.sort(reverse=True)\n",
    "print(sizes[:5])"
   ]
  }
 ],
 "metadata": {
  "kernelspec": {
   "display_name": "Python 3",
   "language": "python",
   "name": "python3"
  },
  "language_info": {
   "codemirror_mode": {
    "name": "ipython",
    "version": 3
   },
   "file_extension": ".py",
   "mimetype": "text/x-python",
   "name": "python",
   "nbconvert_exporter": "python",
   "pygments_lexer": "ipython3",
   "version": "3.5.2"
  }
 },
 "nbformat": 4,
 "nbformat_minor": 2
}
