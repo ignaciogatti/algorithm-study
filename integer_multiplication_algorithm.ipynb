{
 "cells": [
  {
   "cell_type": "code",
   "execution_count": null,
   "metadata": {},
   "outputs": [],
   "source": [
    "x = '31415'\n",
    "y ='27182'"
   ]
  },
  {
   "cell_type": "code",
   "execution_count": null,
   "metadata": {},
   "outputs": [],
   "source": [
    "x = '3141592653589793238462643383279502884197169399375105820974944592'\n",
    "y = '2718281828459045235360287471352662497757247093699959574966967627'"
   ]
  },
  {
   "cell_type": "code",
   "execution_count": null,
   "metadata": {},
   "outputs": [],
   "source": [
    "def get_mul_and_carrie(a, b, prev_carrie):\n",
    "    \n",
    "    mul = int(a) * int(b) + int(prev_carrie)\n",
    "    #base 10\n",
    "    carrie = mul // 10\n",
    "    \n",
    "    #extract carrie\n",
    "    mul = mul - (carrie*10)\n",
    "    \n",
    "    return str(carrie), str(mul)"
   ]
  },
  {
   "cell_type": "code",
   "execution_count": null,
   "metadata": {},
   "outputs": [],
   "source": [
    "def get_sum_and_carrie(a, b, prev_carrie):\n",
    "    \n",
    "    add = int(a) + int(b) + int(prev_carrie)\n",
    "    #base 10\n",
    "    carrie = add // 10\n",
    "    \n",
    "    #extract carrie\n",
    "    add = add - (carrie*10)\n",
    "    \n",
    "    return str(carrie), str(add)"
   ]
  },
  {
   "cell_type": "code",
   "execution_count": null,
   "metadata": {},
   "outputs": [],
   "source": [
    "def get_partial_mul(x, y, shift, array_len):\n",
    "    partial_mul = []\n",
    "    \n",
    "    partial_mul.extend(['0']*shift)\n",
    "\n",
    "    prev_carrie = '0'\n",
    "\n",
    "    for v in x[::-1]:\n",
    "        prev_carrie, mul = get_mul_and_carrie(v, y, prev_carrie)\n",
    "        \n",
    "        partial_mul.append(mul)\n",
    "    \n",
    "    partial_mul.append(prev_carrie)\n",
    "    partial_mul.extend(['0']*(array_len - len(partial_mul)))\n",
    "\n",
    "    return partial_mul[::-1]"
   ]
  },
  {
   "cell_type": "code",
   "execution_count": null,
   "metadata": {},
   "outputs": [],
   "source": [
    "#Define how many place we have to shift\n",
    "shift = 0\n",
    "#Save partial results\n",
    "partial_muls = []\n",
    "\n",
    "#Define length of the line\n",
    "array_len = len(x) + len(y)\n",
    "\n",
    "for v in y[::-1]:\n",
    "    p = get_partial_mul(x, v, shift, array_len)\n",
    "    partial_muls.append(p)\n",
    "    shift += 1\n",
    "\n",
    "len(partial_muls)"
   ]
  },
  {
   "cell_type": "code",
   "execution_count": null,
   "metadata": {},
   "outputs": [],
   "source": [
    "len(y)"
   ]
  },
  {
   "cell_type": "code",
   "execution_count": null,
   "metadata": {},
   "outputs": [],
   "source": [
    "prev_carrie = '0'\n",
    "partial_carrie = '0'\n",
    "mul_result = []\n",
    "for i in range(array_len)[::-1]:\n",
    "    partial_sum = '0'\n",
    "    prev_carrie = partial_carrie\n",
    "    partial_carrie = '0'\n",
    "    for partial_mul in partial_muls:\n",
    "        carrie, partial_sum = get_sum_and_carrie(a= partial_sum, b = partial_mul[i], prev_carrie=prev_carrie)\n",
    "        prev_carrie = '0'\n",
    "        partial_carrie = str(int(partial_carrie) + int(carrie))\n",
    "    \n",
    "    mul_result.append(partial_sum)\n",
    "\n",
    "if prev_carrie != '0':\n",
    "    mul_result.append(prev_carrie)\n",
    "    \n",
    "''.join(mul_result[::-1])"
   ]
  },
  {
   "cell_type": "code",
   "execution_count": null,
   "metadata": {},
   "outputs": [],
   "source": [
    "31415*27182"
   ]
  },
  {
   "cell_type": "code",
   "execution_count": null,
   "metadata": {},
   "outputs": [],
   "source": [
    "b.extend(['0']*0)"
   ]
  },
  {
   "cell_type": "code",
   "execution_count": null,
   "metadata": {},
   "outputs": [],
   "source": [
    "b"
   ]
  },
  {
   "cell_type": "code",
   "execution_count": null,
   "metadata": {},
   "outputs": [],
   "source": [
    "a = 6\n",
    "b = 3\n",
    "\n",
    "a * b //10"
   ]
  }
 ],
 "metadata": {
  "kernelspec": {
   "display_name": "Python 3",
   "language": "python",
   "name": "python3"
  },
  "language_info": {
   "codemirror_mode": {
    "name": "ipython",
    "version": 3
   },
   "file_extension": ".py",
   "mimetype": "text/x-python",
   "name": "python",
   "nbconvert_exporter": "python",
   "pygments_lexer": "ipython3",
   "version": "3.5.2"
  }
 },
 "nbformat": 4,
 "nbformat_minor": 2
}
