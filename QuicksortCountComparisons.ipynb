{
 "cells": [
  {
   "cell_type": "markdown",
   "metadata": {},
   "source": [
    "# Quicksort"
   ]
  },
  {
   "cell_type": "code",
   "execution_count": null,
   "metadata": {},
   "outputs": [],
   "source": [
    "def partition(arr, start, end):\n",
    "    \n",
    "    #Set pivot\n",
    "    pivot = arr[start]\n",
    "    \n",
    "    #set indexes for partion\n",
    "    i = start + 1\n",
    "    \n",
    "    for j in range(i, end):\n",
    "        if arr[j] < pivot:\n",
    "            #Swap\n",
    "            aux = arr[j]\n",
    "            arr[j] = arr[i]\n",
    "            arr[i] = aux\n",
    "            #Update i\n",
    "            i = i + 1\n",
    "    \n",
    "    #Swap pivot\n",
    "    arr[start] = arr[i-1]\n",
    "    arr[i-1] = pivot\n",
    "    return i-1"
   ]
  },
  {
   "cell_type": "markdown",
   "metadata": {},
   "source": [
    "**Choose pivot strategy**"
   ]
  },
  {
   "cell_type": "code",
   "execution_count": null,
   "metadata": {},
   "outputs": [],
   "source": [
    "#Choose first element\n",
    "\n",
    "def choose_pivot_first(arr, start, end):\n",
    "    return arr"
   ]
  },
  {
   "cell_type": "code",
   "execution_count": null,
   "metadata": {},
   "outputs": [],
   "source": [
    "#Choose last element\n",
    "\n",
    "def choose_pivot_last(arr, start, end):\n",
    "    aux = arr[start]\n",
    "    arr[start] = arr[end-1]\n",
    "    arr[end-1] = aux\n",
    "    return arr"
   ]
  },
  {
   "cell_type": "code",
   "execution_count": null,
   "metadata": {},
   "outputs": [],
   "source": [
    "def choose_pivot_three_median(arr, start, end):\n",
    "    middle_index = start + end\n",
    "    \n",
    "    #Choose middle index\n",
    "    if middle_index % 2 == 1:\n",
    "        #odd case\n",
    "        middle_index = middle_index//2\n",
    "    else:\n",
    "        #pair case\n",
    "        middle_index = middle_index//2 -1\n",
    "        \n",
    "    #Choose median\n",
    "    median_index = -1\n",
    "    three_middle_array = [arr[start], arr[middle_index], arr[end-1]]\n",
    "    if (arr[start] != min(three_middle_array)) and (arr[start] != max(three_middle_array)):\n",
    "        median_index = start\n",
    "    elif (arr[end-1] != min(three_middle_array)) and (arr[end-1] != max(three_middle_array)):\n",
    "        median_index = end-1\n",
    "    else:\n",
    "        median_index = middle_index\n",
    "    \n",
    "    #Swap\n",
    "    aux = arr[start]\n",
    "    arr[start] = arr[median_index]\n",
    "    arr[median_index] = aux\n",
    "    return arr\n",
    "    "
   ]
  },
  {
   "cell_type": "code",
   "execution_count": null,
   "metadata": {},
   "outputs": [],
   "source": [
    "#Choose randomly\n",
    "\n",
    "import random\n",
    "\n",
    "def choose_pivot_random(arr, start, end):\n",
    "    pivot_index = random.randint(start, end-1)\n",
    "    aux = arr[start]\n",
    "    arr[start] = arr[pivot_index]\n",
    "    arr[pivot_index] = aux\n",
    "    return arr"
   ]
  },
  {
   "cell_type": "code",
   "execution_count": null,
   "metadata": {},
   "outputs": [],
   "source": [
    "def quicksort(arr, start, end):\n",
    "    if (start < end):\n",
    "        \n",
    "        #arr = choose_pivot_first(arr, start, end)\n",
    "        #arr = choose_pivot_last(arr, start, end)\n",
    "        arr = choose_pivot_three_median(arr, start, end)\n",
    "        \n",
    "        partition_index = partition(arr, start, end)\n",
    "        \n",
    "        current_count = end -start -1\n",
    "        \n",
    "        right_count = quicksort(arr, start, partition_index)\n",
    "        left_count = quicksort(arr, partition_index + 1, end)\n",
    "        return right_count + left_count +current_count\n",
    "    else:\n",
    "        return 0"
   ]
  },
  {
   "cell_type": "markdown",
   "metadata": {},
   "source": [
    "**Test**"
   ]
  },
  {
   "cell_type": "code",
   "execution_count": null,
   "metadata": {},
   "outputs": [],
   "source": [
    "l = [3, 8, 2, 5, 1, 4, 7, 6]"
   ]
  },
  {
   "cell_type": "code",
   "execution_count": null,
   "metadata": {},
   "outputs": [],
   "source": [
    "quicksort(l, 0, len(l))"
   ]
  },
  {
   "cell_type": "code",
   "execution_count": null,
   "metadata": {},
   "outputs": [],
   "source": [
    "l"
   ]
  },
  {
   "cell_type": "markdown",
   "metadata": {},
   "source": [
    "# Load data"
   ]
  },
  {
   "cell_type": "code",
   "execution_count": null,
   "metadata": {},
   "outputs": [],
   "source": [
    "f_integers = open(\"QuickSort.txt\")"
   ]
  },
  {
   "cell_type": "code",
   "execution_count": null,
   "metadata": {},
   "outputs": [],
   "source": [
    "lines = []\n",
    "\n",
    "for l in f_integers.readlines():\n",
    "    lines.append(int(l[:-1]))\n",
    "\n",
    "len(lines)"
   ]
  },
  {
   "cell_type": "markdown",
   "metadata": {},
   "source": [
    "**Test data**"
   ]
  },
  {
   "cell_type": "code",
   "execution_count": null,
   "metadata": {},
   "outputs": [],
   "source": [
    "quicksort(lines, 0, len(lines))"
   ]
  }
 ],
 "metadata": {
  "kernelspec": {
   "display_name": "Python 3",
   "language": "python",
   "name": "python3"
  },
  "language_info": {
   "codemirror_mode": {
    "name": "ipython",
    "version": 3
   },
   "file_extension": ".py",
   "mimetype": "text/x-python",
   "name": "python",
   "nbconvert_exporter": "python",
   "pygments_lexer": "ipython3",
   "version": "3.5.2"
  }
 },
 "nbformat": 4,
 "nbformat_minor": 2
}
