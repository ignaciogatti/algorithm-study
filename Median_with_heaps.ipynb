{
 "cells": [
  {
   "cell_type": "markdown",
   "metadata": {},
   "source": [
    "# Compute the medians with Heaps"
   ]
  },
  {
   "cell_type": "markdown",
   "metadata": {},
   "source": [
    "### Load data"
   ]
  },
  {
   "cell_type": "code",
   "execution_count": null,
   "metadata": {},
   "outputs": [],
   "source": [
    "m_integers = open(\"Median.txt\")"
   ]
  },
  {
   "cell_type": "code",
   "execution_count": null,
   "metadata": {},
   "outputs": [],
   "source": [
    "lines = []\n",
    "\n",
    "for l in m_integers.readlines():\n",
    "    lines.append(int(l[:-1]))\n",
    "\n",
    "len(lines)"
   ]
  },
  {
   "cell_type": "code",
   "execution_count": null,
   "metadata": {},
   "outputs": [],
   "source": [
    "lines[0]"
   ]
  },
  {
   "cell_type": "markdown",
   "metadata": {},
   "source": [
    "### Median with heaps "
   ]
  },
  {
   "cell_type": "code",
   "execution_count": null,
   "metadata": {},
   "outputs": [],
   "source": [
    "from heapq import heapify, heappush, heappop"
   ]
  },
  {
   "cell_type": "code",
   "execution_count": null,
   "metadata": {},
   "outputs": [],
   "source": [
    "def add_number(min_heap, max_heap, number, median):\n",
    "    if (len(min_heap) == 0) and (len(max_heap) == 0):\n",
    "        heappush(min_heap, number)\n",
    "    elif number > median:\n",
    "        heappush(min_heap, number)\n",
    "    else:\n",
    "        heappush(max_heap, -1*number)\n",
    "    \n",
    "    return min_heap, max_heap"
   ]
  },
  {
   "cell_type": "code",
   "execution_count": null,
   "metadata": {},
   "outputs": [],
   "source": [
    "def rebalance(min_heap, max_heap):\n",
    "    \n",
    "    if len(min_heap) - len(max_heap) >= 2:\n",
    "        heappush(max_heap, -1*heappop(min_heap))\n",
    "    elif len(max_heap) - len(min_heap) >= 2:\n",
    "        heappush(min_heap, -1*heappop(max_heap))\n",
    "        \n",
    "    return min_heap, max_heap\n",
    "    "
   ]
  },
  {
   "cell_type": "code",
   "execution_count": null,
   "metadata": {},
   "outputs": [],
   "source": [
    "def get_median(min_heap, max_heap):\n",
    "    \n",
    "    if len(min_heap) == len(max_heap):\n",
    "        return (-1)*max_heap[0]\n",
    "    elif len(min_heap) > len(max_heap):\n",
    "        return min_heap[0]\n",
    "    else:\n",
    "        return (-1)*max_heap[0]"
   ]
  },
  {
   "cell_type": "code",
   "execution_count": null,
   "metadata": {},
   "outputs": [],
   "source": [
    "# Creating empty min heap\n",
    "min_heap = []\n",
    "heapify(min_heap)\n",
    "\n",
    "# Creating empty min heap\n",
    "max_heap = []\n",
    "heapify(max_heap)"
   ]
  },
  {
   "cell_type": "code",
   "execution_count": null,
   "metadata": {},
   "outputs": [],
   "source": [
    "partial_median = []\n",
    "current_median = 0\n",
    "for n in lines:\n",
    "    #print(n)\n",
    "    min_heap, max_heap = add_number(min_heap, max_heap, n, current_median)\n",
    "    min_heap, max_heap = rebalance(min_heap, max_heap)\n",
    "    current_median = get_median(min_heap, max_heap)\n",
    "    #print(current_median)\n",
    "    partial_median.append(current_median)\n",
    "    \n",
    "    "
   ]
  },
  {
   "cell_type": "code",
   "execution_count": null,
   "metadata": {},
   "outputs": [],
   "source": [
    "sum(partial_median) % len(partial_median)"
   ]
  }
 ],
 "metadata": {
  "kernelspec": {
   "display_name": "Python 3",
   "language": "python",
   "name": "python3"
  },
  "language_info": {
   "codemirror_mode": {
    "name": "ipython",
    "version": 3
   },
   "file_extension": ".py",
   "mimetype": "text/x-python",
   "name": "python",
   "nbconvert_exporter": "python",
   "pygments_lexer": "ipython3",
   "version": "3.5.2"
  }
 },
 "nbformat": 4,
 "nbformat_minor": 2
}
