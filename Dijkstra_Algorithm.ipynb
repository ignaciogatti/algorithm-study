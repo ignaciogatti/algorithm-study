{
 "cells": [
  {
   "cell_type": "markdown",
   "metadata": {},
   "source": [
    "# Dijkstra Algorithm"
   ]
  },
  {
   "cell_type": "code",
   "execution_count": 1,
   "metadata": {},
   "outputs": [],
   "source": [
    "import numpy as np \n",
    "import networkx as nx"
   ]
  },
  {
   "cell_type": "markdown",
   "metadata": {},
   "source": [
    "### Load data"
   ]
  },
  {
   "cell_type": "code",
   "execution_count": 2,
   "metadata": {},
   "outputs": [],
   "source": [
    "edges_file = open(\"dijkstraData.txt\")\n",
    "edges_lines = edges_file.readlines()\n",
    "n_edges = len(edges_lines)"
   ]
  },
  {
   "cell_type": "code",
   "execution_count": 3,
   "metadata": {},
   "outputs": [
    {
     "data": {
      "text/plain": [
       "200"
      ]
     },
     "execution_count": 3,
     "metadata": {},
     "output_type": "execute_result"
    }
   ],
   "source": [
    "n_edges"
   ]
  },
  {
   "cell_type": "markdown",
   "metadata": {},
   "source": [
    "**Clean data and insert into directed graph**"
   ]
  },
  {
   "cell_type": "code",
   "execution_count": 9,
   "metadata": {},
   "outputs": [
    {
     "data": {
      "text/plain": [
       "'1\\t80,982\\t163,8164\\t170,2620\\t145,648\\t200,8021\\t173,2069\\t92,647\\t26,4122\\t140,546\\t11,1913\\t160,6461\\t27,7905\\t40,9047\\t150,2183\\t61,9146\\t159,7420\\t198,1724\\t114,508\\t104,6647\\t30,4612\\t99,2367\\t138,7896\\t169,8700\\t49,2437\\t125,2909\\t117,2597\\t55,6399\\t\\n'"
      ]
     },
     "execution_count": 9,
     "metadata": {},
     "output_type": "execute_result"
    }
   ],
   "source": [
    "edges_lines[0]"
   ]
  },
  {
   "cell_type": "code",
   "execution_count": 10,
   "metadata": {},
   "outputs": [
    {
     "data": {
      "text/plain": [
       "1"
      ]
     },
     "execution_count": 10,
     "metadata": {},
     "output_type": "execute_result"
    }
   ],
   "source": [
    "adjacency_list = edges_lines[0].split('\\t')[1:-1]\n",
    "node = int(edges_lines[0][0])\n",
    "node"
   ]
  },
  {
   "cell_type": "code",
   "execution_count": 11,
   "metadata": {},
   "outputs": [
    {
     "data": {
      "text/plain": [
       "['80,982',\n",
       " '163,8164',\n",
       " '170,2620',\n",
       " '145,648',\n",
       " '200,8021',\n",
       " '173,2069',\n",
       " '92,647',\n",
       " '26,4122',\n",
       " '140,546',\n",
       " '11,1913',\n",
       " '160,6461',\n",
       " '27,7905',\n",
       " '40,9047',\n",
       " '150,2183',\n",
       " '61,9146',\n",
       " '159,7420',\n",
       " '198,1724',\n",
       " '114,508',\n",
       " '104,6647',\n",
       " '30,4612',\n",
       " '99,2367',\n",
       " '138,7896',\n",
       " '169,8700',\n",
       " '49,2437',\n",
       " '125,2909',\n",
       " '117,2597',\n",
       " '55,6399']"
      ]
     },
     "execution_count": 11,
     "metadata": {},
     "output_type": "execute_result"
    }
   ],
   "source": [
    "adjacency_list"
   ]
  },
  {
   "cell_type": "code",
   "execution_count": 22,
   "metadata": {},
   "outputs": [],
   "source": [
    "di_graph = nx.DiGraph()"
   ]
  },
  {
   "cell_type": "code",
   "execution_count": 23,
   "metadata": {},
   "outputs": [],
   "source": [
    "edge_list = []\n",
    "nodes_list = set()\n",
    "\n",
    "for line in edges_lines:\n",
    "    #Split to find the node and the adjacency list\n",
    "    adjacency_list = line.split('\\t')[1:-1]\n",
    "    node = int(line.split('\\t')[0])\n",
    "\n",
    "    #Add edge to Graph\n",
    "    for edge in adjacency_list:\n",
    "        values  = edge.split(',')\n",
    "        other_node = int(values[0])\n",
    "        weight = int(values[1])\n",
    "        di_graph.add_edge(node, other_node, weight=weight)\n"
   ]
  },
  {
   "cell_type": "code",
   "execution_count": 24,
   "metadata": {},
   "outputs": [],
   "source": [
    "nodes_to_compute = [7,37,59,82,99,115,133,165,188,197]"
   ]
  },
  {
   "cell_type": "code",
   "execution_count": 25,
   "metadata": {},
   "outputs": [],
   "source": [
    "result = []\n",
    "for n in nodes_to_compute:\n",
    "    r = nx.shortest_path_length(di_graph, 1, n, weight='weight')\n",
    "    result.append(r)"
   ]
  },
  {
   "cell_type": "code",
   "execution_count": 26,
   "metadata": {
    "scrolled": false
   },
   "outputs": [
    {
     "data": {
      "text/plain": [
       "[2599, 2610, 2947, 2052, 2367, 2399, 2029, 2442, 2505, 3068]"
      ]
     },
     "execution_count": 26,
     "metadata": {},
     "output_type": "execute_result"
    }
   ],
   "source": [
    "result"
   ]
  }
 ],
 "metadata": {
  "kernelspec": {
   "display_name": "Python 3",
   "language": "python",
   "name": "python3"
  },
  "language_info": {
   "codemirror_mode": {
    "name": "ipython",
    "version": 3
   },
   "file_extension": ".py",
   "mimetype": "text/x-python",
   "name": "python",
   "nbconvert_exporter": "python",
   "pygments_lexer": "ipython3",
   "version": "3.5.2"
  }
 },
 "nbformat": 4,
 "nbformat_minor": 2
}
